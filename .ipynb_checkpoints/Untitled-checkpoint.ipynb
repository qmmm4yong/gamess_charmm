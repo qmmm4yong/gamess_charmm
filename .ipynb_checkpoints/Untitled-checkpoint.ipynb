{
 "cells": [
  {
   "cell_type": "code",
   "execution_count": 2,
   "id": "5392afec-4e1c-4412-a91d-4090630aea09",
   "metadata": {},
   "outputs": [
    {
     "data": {
      "text/plain": [
       "'This is a notebook to prepare input file for a QM/MM calculation of vibrational frequencies'"
      ]
     },
     "execution_count": 2,
     "metadata": {},
     "output_type": "execute_result"
    }
   ],
   "source": [
    "\"This is a notebook to prepare input file for a QM/MM calculation of vibrational frequencies\""
   ]
  },
  {
   "cell_type": "code",
   "execution_count": 3,
   "id": "76f24773-03bc-4bef-8fd5-08cec8b0802c",
   "metadata": {},
   "outputs": [],
   "source": [
    "input_name=\"vib.inp\""
   ]
  },
  {
   "cell_type": "code",
   "execution_count": null,
   "id": "79a1dd8d-cced-41b3-ad19-c738f2c44a8c",
   "metadata": {},
   "outputs": [],
   "source": []
  }
 ],
 "metadata": {
  "kernelspec": {
   "display_name": "Python 3 (ipykernel)",
   "language": "python",
   "name": "python3"
  },
  "language_info": {
   "codemirror_mode": {
    "name": "ipython",
    "version": 3
   },
   "file_extension": ".py",
   "mimetype": "text/x-python",
   "name": "python",
   "nbconvert_exporter": "python",
   "pygments_lexer": "ipython3",
   "version": "3.11.6"
  }
 },
 "nbformat": 4,
 "nbformat_minor": 5
}
