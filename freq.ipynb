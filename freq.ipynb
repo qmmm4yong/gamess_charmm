{
 "cells": [
  {
   "cell_type": "raw",
   "id": "55df1e2b-7038-4e00-904e-42062252ae77",
   "metadata": {},
   "source": [
    "This freq notebook is to show individual normal modes corresponding the frequencies which are printed at the end\n",
    "\n",
    "Bofore running this notebook one needs to run first the vibran notebook to obtain the normal mode file, in this case: freq.amode\n",
    "\n",
    "The next cell reads the freq.amode file and creates a trajectory file for the normal mode specified in the nmode variable\n",
    "\n",
    "If the movement is not seen than the scale variable can be increased\n",
    "\n",
    "Running this notebook is just click into the next cell and hit shift enter\n",
    "\n"
   ]
  },
  {
   "cell_type": "raw",
   "id": "4c18c00c-ca34-4f11-a07c-de55d4b613f6",
   "metadata": {},
   "source": [
    "Do the same as in test/frq.ipynb"
   ]
  }
 ],
 "metadata": {
  "kernelspec": {
   "display_name": "Python 3 (ipykernel)",
   "language": "python",
   "name": "python3"
  },
  "language_info": {
   "codemirror_mode": {
    "name": "ipython",
    "version": 3
   },
   "file_extension": ".py",
   "mimetype": "text/x-python",
   "name": "python",
   "nbconvert_exporter": "python",
   "pygments_lexer": "ipython3",
   "version": "3.11.6"
  }
 },
 "nbformat": 4,
 "nbformat_minor": 5
}
