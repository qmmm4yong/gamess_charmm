{
 "cells": [
  {
   "cell_type": "code",
   "execution_count": 2,
   "id": "5392afec-4e1c-4412-a91d-4090630aea09",
   "metadata": {},
   "outputs": [
    {
     "data": {
      "text/plain": [
       "'This is a notebook to prepare input file for a QM/MM calculation of vibrational frequencies'"
      ]
     },
     "execution_count": 2,
     "metadata": {},
     "output_type": "execute_result"
    }
   ],
   "source": [
    "This is a notebook to prepare input file for a QM/MM calculation of vibrational frequencies\n",
    "\n",
    "On needs an input file that works with the CHARMM program, such as one from CHARMM-GUI\n",
    "\n",
    "The name of the file is specified into a variable below:"
   ]
  },
  {
   "cell_type": "code",
   "execution_count": 3,
   "id": "76f24773-03bc-4bef-8fd5-08cec8b0802c",
   "metadata": {},
   "outputs": [],
   "source": [
    "input_name=\"vib.inp\""
   ]
  },
  {
   "cell_type": "code",
   "execution_count": null,
   "id": "d7cb4e1e-c882-464e-a484-34266e2b67e6",
   "metadata": {},
   "outputs": [],
   "source": [
    "Then the progam adds QM/MM setup for this run and also adds the proper CHARMM VIBRAN commands so it performs\n",
    "the usually lenghty calculation of the frequencies, for later analysis with the freq notebook"
   ]
  },
  {
   "cell_type": "code",
   "execution_count": 13,
   "id": "110fab24-738e-441c-a886-9e63801bb4a3",
   "metadata": {},
   "outputs": [],
   "source": [
    "%%bash \n",
    "cat >> $input_name << EOF\n",
    "vibran\n",
    "diag finit\n",
    "end\n",
    "\n",
    "EOF"
   ]
  },
  {
   "cell_type": "code",
   "execution_count": null,
   "id": "983512f3-922e-4f7c-898c-f3706aea95c5",
   "metadata": {},
   "outputs": [],
   "source": []
  }
 ],
 "metadata": {
  "kernelspec": {
   "display_name": "Python 3 (ipykernel)",
   "language": "python",
   "name": "python3"
  },
  "language_info": {
   "codemirror_mode": {
    "name": "ipython",
    "version": 3
   },
   "file_extension": ".py",
   "mimetype": "text/x-python",
   "name": "python",
   "nbconvert_exporter": "python",
   "pygments_lexer": "ipython3",
   "version": "3.11.6"
  }
 },
 "nbformat": 4,
 "nbformat_minor": 5
}
