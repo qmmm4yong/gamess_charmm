{
 "cells": [
  {
   "cell_type": "raw",
   "id": "5406baa4-a8d8-4d74-be56-6943e838c38a",
   "metadata": {},
   "source": [
    "This is a notebook to prepare input file for a QM/MM calculation of vibrational frequencies\n",
    "\n",
    "On needs an input file that works with the CHARMM program, such as one from CHARMM-GUI\n",
    "\n",
    "The name of the file is specified into a variable below:"
   ]
  },
  {
   "cell_type": "code",
   "execution_count": 3,
   "id": "76f24773-03bc-4bef-8fd5-08cec8b0802c",
   "metadata": {},
   "outputs": [],
   "source": []
  },
  {
   "cell_type": "code",
   "execution_count": null,
   "id": "d7cb4e1e-c882-464e-a484-34266e2b67e6",
   "metadata": {},
   "outputs": [],
   "source": [
    "Then the progam adds QM/MM setup for this run and also adds the proper CHARMM VIBRAN commands so it performs\n",
    "the usually lenghty calculation of the frequencies, for later analysis with the freq notebook"
   ]
  },
  {
   "cell_type": "code",
   "execution_count": 6,
   "id": "110fab24-738e-441c-a886-9e63801bb4a3",
   "metadata": {},
   "outputs": [],
   "source": [
    "%%bash \n",
    "input_name=\"vib.inp\"\n",
    "cat >> $input_name << EOF\n",
    "open write unit 1 card name frq.amode\n",
    "vibran\n",
    "diag finit\n",
    "write norm card unit 1\n",
    "end\n",
    "\n",
    "EOF"
   ]
  },
  {
   "cell_type": "code",
   "execution_count": 9,
   "id": "983512f3-922e-4f7c-898c-f3706aea95c5",
   "metadata": {},
   "outputs": [],
   "source": [
    "%%script bash\n",
    "# define executable in charmm_exe variable, this is analogous to what is in the simulation.ipynb\n",
    "# one wants to run this in parallel with the mpirun command\n",
    "input_name=\"vib.inp\"\n",
    "charmm_exe=\"/usr/local/apptainer/apptainer_deb/charmm_debs9.sif\"\n",
    "mpirun -n 32 singularity run -B `pwd` $charmm_exe -i $input_name > vibran.out"
   ]
  },
  {
   "cell_type": "code",
   "execution_count": null,
   "id": "d7e46027-56a1-45ff-86b3-b63ce06acc82",
   "metadata": {},
   "outputs": [],
   "source": []
  }
 ],
 "metadata": {
  "kernelspec": {
   "display_name": "Python 3 (ipykernel)",
   "language": "python",
   "name": "python3"
  },
  "language_info": {
   "codemirror_mode": {
    "name": "ipython",
    "version": 3
   },
   "file_extension": ".py",
   "mimetype": "text/x-python",
   "name": "python",
   "nbconvert_exporter": "python",
   "pygments_lexer": "ipython3",
   "version": "3.11.6"
  }
 },
 "nbformat": 4,
 "nbformat_minor": 5
}
