{
 "cells": [
  {
   "cell_type": "markdown",
   "id": "ae44f0c7-4d7e-4e23-b13f-99dbd2d851c9",
   "metadata": {},
   "source": [
    "This frq notebook is to show individual normal modes corresponding the frequencies which are printed at the end \n",
    "\n",
    "Bofore running this notebook one needs to run first the  vibr notebook to obtain the normal mode file, in this case: freq.amode\n",
    " \n",
    "See frq.inp file how it works\n",
    "\n",
    "The next cell reads the freq.amode file and creates a trajectory file for the normal mode specified in the nmode variable\n",
    "\n",
    "If the movement is not seen than the scale variable can be increased\n",
    "\n",
    "Running this notebook is just click into the next cell and hit shift enter\n"
   ]
  },
  {
   "cell_type": "code",
   "execution_count": 3,
   "id": "206c0c69-6ae6-4afc-a24e-a647cad8873f",
   "metadata": {},
   "outputs": [],
   "source": [
    "%%script bash\n",
    "nmode=30\n",
    "scale=5\n",
    "inp=\"frq.inp\"\n",
    "charmm_exe=\"/usr/local/apptainer/apptainer_deb/charmm_debs9.sif\"\n",
    "$charmm_exe -i $inp nmode=$nmode scale=$scale > frq.out"
   ]
  },
  {
   "cell_type": "code",
   "execution_count": 4,
   "id": "0be69941-dc97-4e92-9917-ef7c99454736",
   "metadata": {
    "scrolled": true
   },
   "outputs": [
    {
     "name": "stdout",
     "output_type": "stream",
     "text": [
      "\u001b[?2004l\n"
     ]
    }
   ],
   "source": [
    "!vmd -e frq.vmd >& /dev/zero"
   ]
  },
  {
   "cell_type": "markdown",
   "id": "8154f4e3-0596-4480-a997-cad3c0cf9d3a",
   "metadata": {},
   "source": [
    "If you click the cell above and hit shift enter it will start vmd showing the normal mode corresponding the frequency\n",
    "in the table created by the last cell.\n",
    "\n",
    "One can also click into the %%scipt bash cell and then hit twice enter then it executes vmd also\n",
    "\n",
    "Be aware that frq.vmd file was prepared by hand after making a first run of the %%script bash cell\n",
    "\n",
    "It is also easy to use this notebook with any other program which can show CHARMM trajectory files\n",
    "\n",
    "\n",
    "The cell below will list all the frequencies that the system has. Be aware that first 6 should be as close to zero as possible indicating that the system is energy minimized. These first 6 normal modes represent the translation and rotation of the whole system as a rigid body.\n",
    "\n"
   ]
  },
  {
   "cell_type": "code",
   "execution_count": 72,
   "id": "7ffd659e-ce4d-4b87-ad42-074d6301872a",
   "metadata": {},
   "outputs": [
    {
     "name": "stdout",
     "output_type": "stream",
     "text": [
      "Frequencies [cm-1]:\n",
      "\n",
      "     1     -0.69     2     -0.50     3     -0.13     4     10.63     5     17.16\n",
      "     6     36.34     7     96.22     8    203.42     9    243.13    10    290.28\n",
      "    11    332.07    12    401.26    13    432.95    14    468.91    15    698.46\n",
      "    16    817.66    17    889.24    18    918.17    19    960.47    20   1025.07\n",
      "    21   1048.18    22   1085.87    23   1094.57    24   1347.13    25   1379.09\n",
      "    26   1399.09    27   1415.76    28   1423.97    29   1441.05    30   1442.69\n",
      "    31   1479.25    32   1647.50    33   1677.82    34   1766.71    35   2390.18\n",
      "    36   2902.89    37   2933.08    38   2957.55    39   2961.36    40   3135.21\n",
      "    41   3246.75    42   3262.85\n",
      "\n"
     ]
    }
   ],
   "source": [
    "!csplit -s --suppress-matched frq.out /\"NORMAL MODES\"/\n",
    "!csplit -s xx01 /\"VIBRATION MODE\"/\n",
    "!echo Frequencies [cm-1]:\n",
    "!cat xx00"
   ]
  }
 ],
 "metadata": {
  "kernelspec": {
   "display_name": "Python 3 (ipykernel)",
   "language": "python",
   "name": "python3"
  },
  "language_info": {
   "codemirror_mode": {
    "name": "ipython",
    "version": 3
   },
   "file_extension": ".py",
   "mimetype": "text/x-python",
   "name": "python",
   "nbconvert_exporter": "python",
   "pygments_lexer": "ipython3",
   "version": "3.11.6"
  }
 },
 "nbformat": 4,
 "nbformat_minor": 5
}
