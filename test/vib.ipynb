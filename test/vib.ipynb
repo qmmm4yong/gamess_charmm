{
 "cells": [
  {
   "cell_type": "markdown",
   "id": "2c1757b6-1436-4b9d-96a8-0bdcb01ff71a",
   "metadata": {},
   "source": [
    "This notebook is for calculation of frequencies of the QM/MM system. The first part of the input is the same as the one to perform simulations and minimization. In fact to do the frequency calculation one needs also the minimization step.\n",
    "\n",
    "So after the standard setup of the QM/MM system one needs to calculate the hessian (second derivatives) for the system under study.\n",
    "\n",
    "this is achieved by adding the following to the input scrit. (This is universal)\n",
    "\n",
    "--------------------------------------------\n",
    "open write card unit 1 name freq.amode\n",
    "\n",
    "vibran\n",
    "diag finit\n",
    "write norm card unit 1\n",
    "end\n",
    "\n",
    "---------------------------------\n",
    "\n",
    "Note that this is usually very lenghty calculation and it needs to run in parallel.\n",
    "\n",
    "For this small system parallel is not necessary.\n",
    "\n"
   ]
  },
  {
   "cell_type": "code",
   "execution_count": 1,
   "id": "36365109-a803-447a-adad-3a1532914ad7",
   "metadata": {},
   "outputs": [],
   "source": [
    "%%script bash\n",
    "inp=\"vib.inp\"\n",
    "charmm_exe=\"/usr/local/apptainer/apptainer_deb/charmm_debs9.sif\"\n",
    "# before running new calculation we need to delete the following 2 files\n",
    "rm -f ala.gms test.dat\n",
    "$charmm_exe -i $inp >& vib.out"
   ]
  },
  {
   "cell_type": "markdown",
   "id": "5b238bbc-fbf6-40c5-abcd-0cd579a0f561",
   "metadata": {},
   "source": [
    "The above cell does not output anything, but the sole purpose is to create freq.amode a normal mode file which is then use to analzse frequencies."
   ]
  }
 ],
 "metadata": {
  "kernelspec": {
   "display_name": "Python 3 (ipykernel)",
   "language": "python",
   "name": "python3"
  },
  "language_info": {
   "codemirror_mode": {
    "name": "ipython",
    "version": 3
   },
   "file_extension": ".py",
   "mimetype": "text/x-python",
   "name": "python",
   "nbconvert_exporter": "python",
   "pygments_lexer": "ipython3",
   "version": "3.11.6"
  }
 },
 "nbformat": 4,
 "nbformat_minor": 5
}
