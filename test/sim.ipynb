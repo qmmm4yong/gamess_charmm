{
 "cells": [
  {
   "cell_type": "markdown",
   "id": "51a70272-17b4-4ef4-a45b-5ed383e09b4e",
   "metadata": {},
   "source": [
    "Tis is a simulation notebook to add few commands to the input file which was produced by CHARMM-GUI system\n",
    "\n",
    "It is advisable to perform all the equilibration steps that CHARMM-GUI makes plus one short prduction run, before seting up the QM/MM simulation input file.\n",
    "\n",
    "For this test we use the standard QM/MM test input scrpt charmm/test/cquantumtest/gmstst.inp\n",
    "\n",
    "then we delete the test first command at the end and replace th mini command with the following one:\n",
    "\n",
    "mini abnr nstep 2000 nprint 100 iuncrd 1 nsavc 1\n",
    "\n",
    "after this we have a psf and coordinate file for further QM/MM calcualtions.\n",
    "\n",
    "During minimization process the scrip also saves the trajectory file which can be viewed after the minimization is finished\n"
   ]
  },
  {
   "cell_type": "code",
   "execution_count": 1,
   "id": "33bc034e-59fc-49fd-a5f6-6ee1aa1e33c4",
   "metadata": {},
   "outputs": [
    {
     "name": "stderr",
     "output_type": "stream",
     "text": [
      "\n",
      "real\t2m17.043s\n",
      "user\t2m9.252s\n",
      "sys\t0m4.223s\n"
     ]
    }
   ],
   "source": [
    "%%script bash\n",
    "inp=\"sim.inp\"\n",
    "charmm_exe=\"/usr/local/apptainer/apptainer_deb/charmm_debs9.sif\"\n",
    "# before running new calculation we need to delete the following 2 files\n",
    "rm -f ala.gms test.dat\n",
    "time $charmm_exe -i $inp >& sim.out"
   ]
  },
  {
   "cell_type": "code",
   "execution_count": 2,
   "id": "7713b7f7-c7d1-4bd4-8a61-57c169c6b764",
   "metadata": {},
   "outputs": [
    {
     "name": "stdout",
     "output_type": "stream",
     "text": [
      "\u001b[?2004l\n"
     ]
    }
   ],
   "source": [
    "!vmd -e sim-all.vmd > /dev/zero"
   ]
  },
  {
   "cell_type": "code",
   "execution_count": null,
   "id": "4b2a814b-91cc-469b-a180-acb5d15f6a93",
   "metadata": {},
   "outputs": [],
   "source": [
    "!vmd -e sim-all.vmd > /dev/zero"
   ]
  },
  {
   "cell_type": "markdown",
   "id": "4a6c0363-387a-420a-9cfa-953498064151",
   "metadata": {},
   "source": [
    "to display only QM atoms use next cell (shift enter)"
   ]
  },
  {
   "cell_type": "code",
   "execution_count": 3,
   "id": "40eba20e-c4d8-4dd0-b95b-6f787f140b80",
   "metadata": {},
   "outputs": [
    {
     "name": "stdout",
     "output_type": "stream",
     "text": [
      "\u001b[?2004l\n"
     ]
    }
   ],
   "source": [
    "!vmd -e sim-qm.vmd > /dev/zero"
   ]
  },
  {
   "cell_type": "code",
   "execution_count": null,
   "id": "526e9670-4662-4600-bd82-3536a2dcd709",
   "metadata": {},
   "outputs": [],
   "source": []
  }
 ],
 "metadata": {
  "kernelspec": {
   "display_name": "Python 3 (ipykernel)",
   "language": "python",
   "name": "python3"
  },
  "language_info": {
   "codemirror_mode": {
    "name": "ipython",
    "version": 3
   },
   "file_extension": ".py",
   "mimetype": "text/x-python",
   "name": "python",
   "nbconvert_exporter": "python",
   "pygments_lexer": "ipython3",
   "version": "3.11.6"
  }
 },
 "nbformat": 4,
 "nbformat_minor": 5
}
